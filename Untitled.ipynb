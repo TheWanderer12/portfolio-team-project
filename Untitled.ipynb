{
 "cells": [
  {
   "cell_type": "code",
   "execution_count": 29,
   "id": "e9e62e89-c8b3-44a5-939c-f7985ff71830",
   "metadata": {},
   "outputs": [],
   "source": [
    "class Human:\n",
    "    def __init__(new):\n",
    "        new.legs = 2\n",
    "        new.arms = 3\n",
    "        new.staff = 12\n",
    "        new.students = 13"
   ]
  },
  {
   "cell_type": "code",
   "execution_count": 30,
   "id": "ba569914-347a-4064-9ca0-ec0d02f425d4",
   "metadata": {},
   "outputs": [],
   "source": [
    "ryyan=Human()"
   ]
  },
  {
   "cell_type": "code",
   "execution_count": 31,
   "id": "2c59b6b0-00ae-4d3a-8a81-3b1b54f7bb95",
   "metadata": {},
   "outputs": [
    {
     "name": "stdout",
     "output_type": "stream",
     "text": [
      "12\n"
     ]
    }
   ],
   "source": [
    "print(ryyan.staff)"
   ]
  },
  {
   "cell_type": "code",
   "execution_count": 32,
   "id": "27c3ee5e-d582-4d9e-9d9e-6feaf9570d75",
   "metadata": {},
   "outputs": [
    {
     "name": "stdout",
     "output_type": "stream",
     "text": [
      "13\n"
     ]
    }
   ],
   "source": [
    "print(ryyan.students)"
   ]
  },
  {
   "cell_type": "code",
   "execution_count": null,
   "id": "1fcc94ff-787a-4e50-9c5d-7ef41c19f1fc",
   "metadata": {},
   "outputs": [],
   "source": []
  }
 ],
 "metadata": {
  "kernelspec": {
   "display_name": "Python 3 (ipykernel)",
   "language": "python",
   "name": "python3"
  },
  "language_info": {
   "codemirror_mode": {
    "name": "ipython",
    "version": 3
   },
   "file_extension": ".py",
   "mimetype": "text/x-python",
   "name": "python",
   "nbconvert_exporter": "python",
   "pygments_lexer": "ipython3",
   "version": "3.12.0"
  }
 },
 "nbformat": 4,
 "nbformat_minor": 5
}
